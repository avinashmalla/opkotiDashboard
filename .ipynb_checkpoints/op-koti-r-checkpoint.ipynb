{
 "cells": [
  {
   "cell_type": "code",
   "execution_count": 56,
   "id": "82ec5b9f",
   "metadata": {},
   "outputs": [],
   "source": [
    "## First specify the packages of interest\n",
    "list.of.packages <- c(\"tidyverse\", \"jsonlite\", \"magrittr\")\n",
    "new.packages <- list.of.packages[!(list.of.packages %in% installed.packages()[,\"Package\"])]\n",
    "if(length(new.packages)) install.packages(new.packages)"
   ]
  },
  {
   "cell_type": "code",
   "execution_count": 57,
   "id": "b86036ff",
   "metadata": {},
   "outputs": [],
   "source": [
    "suppressPackageStartupMessages({\n",
    "    library(jsonlite)\n",
    "    library(tidyverse)\n",
    "    library(magrittr)\n",
    "})"
   ]
  },
  {
   "cell_type": "code",
   "execution_count": 58,
   "id": "761d2edc",
   "metadata": {},
   "outputs": [],
   "source": [
    "data <- jsonlite::fromJSON(\"https://op-koti.fi/api/apartments?mode=sale&featureGroup=apartment&orderBy=created&order=desc&offset=0&limit=4500\", flatten = T)\n",
    "\n",
    "df <- data[[2]]"
   ]
  },
  {
   "cell_type": "code",
   "execution_count": 59,
   "id": "b98e7f16",
   "metadata": {},
   "outputs": [],
   "source": [
    "cols = c('id', 'listingType', 'floor', 'year', 'rooms', 'numberOfRooms', 'price', 'debtFreePrice',\n",
    "        'location.city', 'location.region', 'location.district','location.postalCode',\n",
    "        'livingArea.size', 'totalArea.size')\n",
    "\n",
    "df <- df[cols]\n",
    "\n",
    "df <- df %>%\n",
    "  rename(city = location.city, \n",
    "         region = location.region, \n",
    "         district = location.district, \n",
    "         postalCode = location.postalCode, \n",
    "         livingArea = livingArea.size, \n",
    "         totalArea = totalArea.size, \n",
    "         yearBuilt = year)"
   ]
  },
  {
   "cell_type": "code",
   "execution_count": 60,
   "id": "a924a05e",
   "metadata": {},
   "outputs": [
    {
     "data": {
      "text/html": [
       "<table class=\"dataframe\">\n",
       "<caption>A data.frame: 6 × 14</caption>\n",
       "<thead>\n",
       "\t<tr><th></th><th scope=col>id</th><th scope=col>listingType</th><th scope=col>floor</th><th scope=col>yearBuilt</th><th scope=col>rooms</th><th scope=col>numberOfRooms</th><th scope=col>price</th><th scope=col>debtFreePrice</th><th scope=col>city</th><th scope=col>region</th><th scope=col>district</th><th scope=col>postalCode</th><th scope=col>livingArea</th><th scope=col>totalArea</th></tr>\n",
       "\t<tr><th></th><th scope=col>&lt;chr&gt;</th><th scope=col>&lt;int&gt;</th><th scope=col>&lt;int&gt;</th><th scope=col>&lt;int&gt;</th><th scope=col>&lt;chr&gt;</th><th scope=col>&lt;int&gt;</th><th scope=col>&lt;dbl&gt;</th><th scope=col>&lt;dbl&gt;</th><th scope=col>&lt;chr&gt;</th><th scope=col>&lt;chr&gt;</th><th scope=col>&lt;chr&gt;</th><th scope=col>&lt;chr&gt;</th><th scope=col>&lt;dbl&gt;</th><th scope=col>&lt;dbl&gt;</th></tr>\n",
       "</thead>\n",
       "<tbody>\n",
       "\t<tr><th scope=row>1</th><td>521211</td><td>89</td><td>2</td><td>1972</td><td>2h,k                                     </td><td>2</td><td> 46000</td><td> 46000</td><td>Mikkeli </td><td>Mikkeli         </td><td>Siekkilä              </td><td>50120</td><td> 47.5</td><td> 47.5</td></tr>\n",
       "\t<tr><th scope=row>2</th><td>521803</td><td>91</td><td>1</td><td>2000</td><td>3h,k,sa,kh,wc,vh,et,tk                   </td><td>3</td><td>119000</td><td>119000</td><td>Oulu    </td><td>Oulu            </td><td>Oulunsalo, Pitkäkangas</td><td>90460</td><td> 75.5</td><td> 75.5</td></tr>\n",
       "\t<tr><th scope=row>3</th><td>521609</td><td>89</td><td>1</td><td>1984</td><td>3h,k,s                                   </td><td>3</td><td>115000</td><td>115000</td><td>Joensuu </td><td>Joensuu         </td><td>Keskusta              </td><td>80100</td><td> 72.5</td><td> 72.5</td></tr>\n",
       "\t<tr><th scope=row>4</th><td>519998</td><td>89</td><td>5</td><td>1964</td><td>5h, k, erillinen wc, vh, 2 parveketta    </td><td>5</td><td>269000</td><td>269000</td><td>Helsinki</td><td>Itä-Helsinki    </td><td>Vuosaari              </td><td>00960</td><td> 96.4</td><td> 96.4</td></tr>\n",
       "\t<tr><th scope=row>5</th><td>520696</td><td>92</td><td>0</td><td>2006</td><td>4h+k+s+rt+kph+erill. wc+vh+lämmin varasto</td><td>4</td><td>449000</td><td>    NA</td><td>Helsinki</td><td>Pohjois-Helsinki</td><td>Tapaninvainio         </td><td>00780</td><td>120.0</td><td>125.0</td></tr>\n",
       "\t<tr><th scope=row>6</th><td>521950</td><td>91</td><td>0</td><td>2002</td><td>3h+k+s                                   </td><td>3</td><td>189700</td><td>189700</td><td>Kalajoki</td><td>Kalajoki        </td><td>Pohjankylä            </td><td>85100</td><td>100.0</td><td>100.0</td></tr>\n",
       "</tbody>\n",
       "</table>\n"
      ],
      "text/latex": [
       "A data.frame: 6 × 14\n",
       "\\begin{tabular}{r|llllllllllllll}\n",
       "  & id & listingType & floor & yearBuilt & rooms & numberOfRooms & price & debtFreePrice & city & region & district & postalCode & livingArea & totalArea\\\\\n",
       "  & <chr> & <int> & <int> & <int> & <chr> & <int> & <dbl> & <dbl> & <chr> & <chr> & <chr> & <chr> & <dbl> & <dbl>\\\\\n",
       "\\hline\n",
       "\t1 & 521211 & 89 & 2 & 1972 & 2h,k                                      & 2 &  46000 &  46000 & Mikkeli  & Mikkeli          & Siekkilä               & 50120 &  47.5 &  47.5\\\\\n",
       "\t2 & 521803 & 91 & 1 & 2000 & 3h,k,sa,kh,wc,vh,et,tk                    & 3 & 119000 & 119000 & Oulu     & Oulu             & Oulunsalo, Pitkäkangas & 90460 &  75.5 &  75.5\\\\\n",
       "\t3 & 521609 & 89 & 1 & 1984 & 3h,k,s                                    & 3 & 115000 & 115000 & Joensuu  & Joensuu          & Keskusta               & 80100 &  72.5 &  72.5\\\\\n",
       "\t4 & 519998 & 89 & 5 & 1964 & 5h, k, erillinen wc, vh, 2 parveketta     & 5 & 269000 & 269000 & Helsinki & Itä-Helsinki     & Vuosaari               & 00960 &  96.4 &  96.4\\\\\n",
       "\t5 & 520696 & 92 & 0 & 2006 & 4h+k+s+rt+kph+erill. wc+vh+lämmin varasto & 4 & 449000 &     NA & Helsinki & Pohjois-Helsinki & Tapaninvainio          & 00780 & 120.0 & 125.0\\\\\n",
       "\t6 & 521950 & 91 & 0 & 2002 & 3h+k+s                                    & 3 & 189700 & 189700 & Kalajoki & Kalajoki         & Pohjankylä             & 85100 & 100.0 & 100.0\\\\\n",
       "\\end{tabular}\n"
      ],
      "text/markdown": [
       "\n",
       "A data.frame: 6 × 14\n",
       "\n",
       "| <!--/--> | id &lt;chr&gt; | listingType &lt;int&gt; | floor &lt;int&gt; | yearBuilt &lt;int&gt; | rooms &lt;chr&gt; | numberOfRooms &lt;int&gt; | price &lt;dbl&gt; | debtFreePrice &lt;dbl&gt; | city &lt;chr&gt; | region &lt;chr&gt; | district &lt;chr&gt; | postalCode &lt;chr&gt; | livingArea &lt;dbl&gt; | totalArea &lt;dbl&gt; |\n",
       "|---|---|---|---|---|---|---|---|---|---|---|---|---|---|---|\n",
       "| 1 | 521211 | 89 | 2 | 1972 | 2h,k                                      | 2 |  46000 |  46000 | Mikkeli  | Mikkeli          | Siekkilä               | 50120 |  47.5 |  47.5 |\n",
       "| 2 | 521803 | 91 | 1 | 2000 | 3h,k,sa,kh,wc,vh,et,tk                    | 3 | 119000 | 119000 | Oulu     | Oulu             | Oulunsalo, Pitkäkangas | 90460 |  75.5 |  75.5 |\n",
       "| 3 | 521609 | 89 | 1 | 1984 | 3h,k,s                                    | 3 | 115000 | 115000 | Joensuu  | Joensuu          | Keskusta               | 80100 |  72.5 |  72.5 |\n",
       "| 4 | 519998 | 89 | 5 | 1964 | 5h, k, erillinen wc, vh, 2 parveketta     | 5 | 269000 | 269000 | Helsinki | Itä-Helsinki     | Vuosaari               | 00960 |  96.4 |  96.4 |\n",
       "| 5 | 520696 | 92 | 0 | 2006 | 4h+k+s+rt+kph+erill. wc+vh+lämmin varasto | 4 | 449000 |     NA | Helsinki | Pohjois-Helsinki | Tapaninvainio          | 00780 | 120.0 | 125.0 |\n",
       "| 6 | 521950 | 91 | 0 | 2002 | 3h+k+s                                    | 3 | 189700 | 189700 | Kalajoki | Kalajoki         | Pohjankylä             | 85100 | 100.0 | 100.0 |\n",
       "\n"
      ],
      "text/plain": [
       "  id     listingType floor yearBuilt rooms                                    \n",
       "1 521211 89          2     1972      2h,k                                     \n",
       "2 521803 91          1     2000      3h,k,sa,kh,wc,vh,et,tk                   \n",
       "3 521609 89          1     1984      3h,k,s                                   \n",
       "4 519998 89          5     1964      5h, k, erillinen wc, vh, 2 parveketta    \n",
       "5 520696 92          0     2006      4h+k+s+rt+kph+erill. wc+vh+lämmin varasto\n",
       "6 521950 91          0     2002      3h+k+s                                   \n",
       "  numberOfRooms price  debtFreePrice city     region          \n",
       "1 2              46000  46000        Mikkeli  Mikkeli         \n",
       "2 3             119000 119000        Oulu     Oulu            \n",
       "3 3             115000 115000        Joensuu  Joensuu         \n",
       "4 5             269000 269000        Helsinki Itä-Helsinki    \n",
       "5 4             449000     NA        Helsinki Pohjois-Helsinki\n",
       "6 3             189700 189700        Kalajoki Kalajoki        \n",
       "  district               postalCode livingArea totalArea\n",
       "1 Siekkilä               50120       47.5       47.5    \n",
       "2 Oulunsalo, Pitkäkangas 90460       75.5       75.5    \n",
       "3 Keskusta               80100       72.5       72.5    \n",
       "4 Vuosaari               00960       96.4       96.4    \n",
       "5 Tapaninvainio          00780      120.0      125.0    \n",
       "6 Pohjankylä             85100      100.0      100.0    "
      ]
     },
     "metadata": {},
     "output_type": "display_data"
    }
   ],
   "source": [
    "head(df)"
   ]
  },
  {
   "cell_type": "markdown",
   "id": "a6516803",
   "metadata": {},
   "source": [
    "listingType is in code. The code below changes it into the corresponding text values"
   ]
  },
  {
   "cell_type": "code",
   "execution_count": 61,
   "id": "54c580ab",
   "metadata": {},
   "outputs": [],
   "source": [
    "df <- df %>%\n",
    "  mutate(listingType = recode(listingType, '89'='Kerrostalo','90'='Omakotitalo','91'='Rivitalo','92'='Paritalo','93'='Erillistalo','112'='Puutalo','113'='Luhtitalo','470'='Kytketty paritalo'))"
   ]
  },
  {
   "cell_type": "code",
   "execution_count": 62,
   "id": "53d4c31e",
   "metadata": {},
   "outputs": [
    {
     "data": {
      "text/plain": [
       "\n",
       "      Erillistalo        Kerrostalo Kytketty paritalo         Luhtitalo \n",
       "               12              1386                 1                32 \n",
       "      Omakotitalo          Paritalo           Puutalo          Rivitalo \n",
       "              802                85                 4               592 "
      ]
     },
     "metadata": {},
     "output_type": "display_data"
    }
   ],
   "source": [
    "table(df$listingType)"
   ]
  },
  {
   "cell_type": "markdown",
   "id": "c78e244b",
   "metadata": {},
   "source": [
    "replacing empty values with NAs"
   ]
  },
  {
   "cell_type": "code",
   "execution_count": 63,
   "id": "3338476b",
   "metadata": {},
   "outputs": [
    {
     "data": {
      "text/html": [
       "<table class=\"dataframe\">\n",
       "<caption>A data.frame: 1 × 14</caption>\n",
       "<thead>\n",
       "\t<tr><th scope=col>id</th><th scope=col>listingType</th><th scope=col>floor</th><th scope=col>yearBuilt</th><th scope=col>rooms</th><th scope=col>numberOfRooms</th><th scope=col>price</th><th scope=col>debtFreePrice</th><th scope=col>city</th><th scope=col>region</th><th scope=col>district</th><th scope=col>postalCode</th><th scope=col>livingArea</th><th scope=col>totalArea</th></tr>\n",
       "\t<tr><th scope=col>&lt;int&gt;</th><th scope=col>&lt;int&gt;</th><th scope=col>&lt;int&gt;</th><th scope=col>&lt;int&gt;</th><th scope=col>&lt;int&gt;</th><th scope=col>&lt;int&gt;</th><th scope=col>&lt;int&gt;</th><th scope=col>&lt;int&gt;</th><th scope=col>&lt;int&gt;</th><th scope=col>&lt;int&gt;</th><th scope=col>&lt;int&gt;</th><th scope=col>&lt;int&gt;</th><th scope=col>&lt;int&gt;</th><th scope=col>&lt;int&gt;</th></tr>\n",
       "</thead>\n",
       "<tbody>\n",
       "\t<tr><td>0</td><td>0</td><td>397</td><td>9</td><td>114</td><td>114</td><td>113</td><td>956</td><td>0</td><td>0</td><td>158</td><td>0</td><td>114</td><td>114</td></tr>\n",
       "</tbody>\n",
       "</table>\n"
      ],
      "text/latex": [
       "A data.frame: 1 × 14\n",
       "\\begin{tabular}{llllllllllllll}\n",
       " id & listingType & floor & yearBuilt & rooms & numberOfRooms & price & debtFreePrice & city & region & district & postalCode & livingArea & totalArea\\\\\n",
       " <int> & <int> & <int> & <int> & <int> & <int> & <int> & <int> & <int> & <int> & <int> & <int> & <int> & <int>\\\\\n",
       "\\hline\n",
       "\t 0 & 0 & 397 & 9 & 114 & 114 & 113 & 956 & 0 & 0 & 158 & 0 & 114 & 114\\\\\n",
       "\\end{tabular}\n"
      ],
      "text/markdown": [
       "\n",
       "A data.frame: 1 × 14\n",
       "\n",
       "| id &lt;int&gt; | listingType &lt;int&gt; | floor &lt;int&gt; | yearBuilt &lt;int&gt; | rooms &lt;int&gt; | numberOfRooms &lt;int&gt; | price &lt;int&gt; | debtFreePrice &lt;int&gt; | city &lt;int&gt; | region &lt;int&gt; | district &lt;int&gt; | postalCode &lt;int&gt; | livingArea &lt;int&gt; | totalArea &lt;int&gt; |\n",
       "|---|---|---|---|---|---|---|---|---|---|---|---|---|---|\n",
       "| 0 | 0 | 397 | 9 | 114 | 114 | 113 | 956 | 0 | 0 | 158 | 0 | 114 | 114 |\n",
       "\n"
      ],
      "text/plain": [
       "  id listingType floor yearBuilt rooms numberOfRooms price debtFreePrice city\n",
       "1 0  0           397   9         114   114           113   956           0   \n",
       "  region district postalCode livingArea totalArea\n",
       "1 0      158      0          114        114      "
      ]
     },
     "metadata": {},
     "output_type": "display_data"
    }
   ],
   "source": [
    "df <- df %>% \n",
    "  mutate_all(na_if,\"\")\n",
    "\n",
    "df %>%\n",
    "  summarise_all(funs(sum(is.na(.))))"
   ]
  },
  {
   "cell_type": "markdown",
   "id": "31b2133f",
   "metadata": {},
   "source": [
    "#### Next,\n",
    "* Cases where debtFreePrice is NA but price is given, the price of the listing is the debtFreePrice. This means there is no outstanding loan payment to be carried over to the new owner\n",
    "\n",
    "* Also creating a new row 'buildingAge' from the 'yearBuilt'"
   ]
  },
  {
   "cell_type": "code",
   "execution_count": 64,
   "id": "44532ed6",
   "metadata": {},
   "outputs": [],
   "source": [
    "df <- df %>%\n",
    "  mutate(debtFreePrice = case_when(is.na(debtFreePrice) & !is.na(price) ~ price,\n",
    "                                   TRUE ~ debtFreePrice))\n",
    "\n",
    "df <- df %>%\n",
    "  filter(!is.na(yearBuilt))%>%\n",
    "  mutate(buildingAge = case_when(yearBuilt > year(today()) ~ 1,\n",
    "                                 TRUE ~ year(today()) - year(as.Date(as.character(yearBuilt), format = \"%Y\")))) %>%\n",
    "  select(-yearBuilt)"
   ]
  },
  {
   "cell_type": "markdown",
   "id": "a694273f",
   "metadata": {},
   "source": [
    "Removing the NAs"
   ]
  },
  {
   "cell_type": "code",
   "execution_count": 65,
   "id": "19af15a3",
   "metadata": {},
   "outputs": [],
   "source": [
    "df <- na.omit(df)"
   ]
  },
  {
   "cell_type": "code",
   "execution_count": 66,
   "id": "6368f1f2",
   "metadata": {},
   "outputs": [],
   "source": [
    "## CREATED FUNCTIONS\n",
    "is.not.null <- function(x) !is.null(x)\n",
    "\n",
    "clean_rooms <- function(rooms){\n",
    "  clean = c()\n",
    "  for (room in rooms){\n",
    "    room = str_replace(room, \"\\\\.\", \" \")\n",
    "    y = strsplit(room, split = \"[[:punct:]]\")\n",
    "    z = c()\n",
    "    for (x in y) {\n",
    "      z = append(z, str_trim(x, side = \"both\"))\n",
    "    }\n",
    "    z = z[!z == \"\"]\n",
    "    # y <- paste(z, collapse = \" \", recycle0 = FALSE)\n",
    "    y = list(z)\n",
    "    clean = append(clean, y)\n",
    "  }\n",
    "  return(clean)\n",
    "}\n",
    "\n",
    "detect_sauna <- function(rooms){\n",
    "  # takes a list of rooms, checks for sauna and returns binary\n",
    "  l = c()\n",
    "  for(room in rooms){\n",
    "    l = append(l,any(str_detect(room, '^s$|sauna')))\n",
    "  }\n",
    "  return(as.integer(l))\n",
    "}\n",
    "\n",
    "detect_balcony <- function(rooms){\n",
    "  # takes a list of rooms, checks for balcony and returns binary\n",
    "  l = c()\n",
    "  for(room in rooms){\n",
    "    l = append(l,any(str_detect(room, '^p$|parv|lasit p|las p')))\n",
    "  }\n",
    "  return(as.integer(l))\n",
    "}\n",
    "\n",
    "detect_parking <- function(rooms){\n",
    "  # takes a list of rooms, checks for parking and returns binary\n",
    "  l = c()\n",
    "  for(room in rooms){\n",
    "    l = append(l,any(str_detect(room, '^ak$|^at$|auto')))\n",
    "  }\n",
    "  return(as.integer(l))\n",
    "}\n",
    "\n",
    "detect_walk_in_closet <- function(rooms){\n",
    "  # takes a list of rooms, checks for walk-in-closet and returns binary\n",
    "  l = c()\n",
    "  for(room in rooms){\n",
    "    l = append(l,any(str_detect(room, '^v$|^vh$|vaate')))\n",
    "  }\n",
    "  return(as.integer(l))\n",
    "}\n",
    "\n",
    "detect_storage <- function(rooms){\n",
    "  # takes a list of rooms, checks for storage room and returns binary\n",
    "  l = c()\n",
    "  for(room in rooms){\n",
    "    l = append(l,any(str_detect(room, 'var')))\n",
    "  }\n",
    "  return(as.integer(l))\n",
    "}"
   ]
  },
  {
   "cell_type": "code",
   "execution_count": 67,
   "id": "603e638b",
   "metadata": {},
   "outputs": [
    {
     "data": {
      "text/html": [
       "<style>\n",
       ".list-inline {list-style: none; margin:0; padding: 0}\n",
       ".list-inline>li {display: inline-block}\n",
       ".list-inline>li:not(:last-child)::after {content: \"\\00b7\"; padding: 0 .5ex}\n",
       "</style>\n",
       "<ol class=list-inline><li>'2h,k'</li><li>'3h,k,sa,kh,wc,vh,et,tk'</li><li>'3h,k,s'</li><li>'5h, k, erillinen wc, vh, 2 parveketta'</li><li>'4h+k+s+rt+kph+erill. wc+vh+lämmin varasto'</li><li>'3h+k+s'</li><li>'2h, k, kh'</li><li>'4 h, k, kph'</li><li>'2h+kk+s'</li><li>'3-4h, k'</li><li>'1h,kk'</li><li>'2h+k+s'</li><li>'3h+k+kph/s+wc+vh+at+piha'</li><li>'2h+k+s'</li><li>'3h,k,s'</li><li>'2h,kk'</li><li>'1h,k,kh'</li><li>'5h,k,apuk,2wc,khh,vierash./pkh,kph,s,varasto'</li><li>'4h+k'</li><li>'2h,k,s'</li></ol>\n"
      ],
      "text/latex": [
       "\\begin{enumerate*}\n",
       "\\item '2h,k'\n",
       "\\item '3h,k,sa,kh,wc,vh,et,tk'\n",
       "\\item '3h,k,s'\n",
       "\\item '5h, k, erillinen wc, vh, 2 parveketta'\n",
       "\\item '4h+k+s+rt+kph+erill. wc+vh+lämmin varasto'\n",
       "\\item '3h+k+s'\n",
       "\\item '2h, k, kh'\n",
       "\\item '4 h, k, kph'\n",
       "\\item '2h+kk+s'\n",
       "\\item '3-4h, k'\n",
       "\\item '1h,kk'\n",
       "\\item '2h+k+s'\n",
       "\\item '3h+k+kph/s+wc+vh+at+piha'\n",
       "\\item '2h+k+s'\n",
       "\\item '3h,k,s'\n",
       "\\item '2h,kk'\n",
       "\\item '1h,k,kh'\n",
       "\\item '5h,k,apuk,2wc,khh,vierash./pkh,kph,s,varasto'\n",
       "\\item '4h+k'\n",
       "\\item '2h,k,s'\n",
       "\\end{enumerate*}\n"
      ],
      "text/markdown": [
       "1. '2h,k'\n",
       "2. '3h,k,sa,kh,wc,vh,et,tk'\n",
       "3. '3h,k,s'\n",
       "4. '5h, k, erillinen wc, vh, 2 parveketta'\n",
       "5. '4h+k+s+rt+kph+erill. wc+vh+lämmin varasto'\n",
       "6. '3h+k+s'\n",
       "7. '2h, k, kh'\n",
       "8. '4 h, k, kph'\n",
       "9. '2h+kk+s'\n",
       "10. '3-4h, k'\n",
       "11. '1h,kk'\n",
       "12. '2h+k+s'\n",
       "13. '3h+k+kph/s+wc+vh+at+piha'\n",
       "14. '2h+k+s'\n",
       "15. '3h,k,s'\n",
       "16. '2h,kk'\n",
       "17. '1h,k,kh'\n",
       "18. '5h,k,apuk,2wc,khh,vierash./pkh,kph,s,varasto'\n",
       "19. '4h+k'\n",
       "20. '2h,k,s'\n",
       "\n",
       "\n"
      ],
      "text/plain": [
       " [1] \"2h,k\"                                        \n",
       " [2] \"3h,k,sa,kh,wc,vh,et,tk\"                      \n",
       " [3] \"3h,k,s\"                                      \n",
       " [4] \"5h, k, erillinen wc, vh, 2 parveketta\"       \n",
       " [5] \"4h+k+s+rt+kph+erill. wc+vh+lämmin varasto\"   \n",
       " [6] \"3h+k+s\"                                      \n",
       " [7] \"2h, k, kh\"                                   \n",
       " [8] \"4 h, k, kph\"                                 \n",
       " [9] \"2h+kk+s\"                                     \n",
       "[10] \"3-4h, k\"                                     \n",
       "[11] \"1h,kk\"                                       \n",
       "[12] \"2h+k+s\"                                      \n",
       "[13] \"3h+k+kph/s+wc+vh+at+piha\"                    \n",
       "[14] \"2h+k+s\"                                      \n",
       "[15] \"3h,k,s\"                                      \n",
       "[16] \"2h,kk\"                                       \n",
       "[17] \"1h,k,kh\"                                     \n",
       "[18] \"5h,k,apuk,2wc,khh,vierash./pkh,kph,s,varasto\"\n",
       "[19] \"4h+k\"                                        \n",
       "[20] \"2h,k,s\"                                      "
      ]
     },
     "metadata": {},
     "output_type": "display_data"
    }
   ],
   "source": [
    "head(df$rooms,20)"
   ]
  },
  {
   "cell_type": "markdown",
   "id": "e7e80d92",
   "metadata": {},
   "source": [
    "We can see that the rooms column has information in varying formats. clean_rooms() makes it uniform"
   ]
  },
  {
   "cell_type": "code",
   "execution_count": 68,
   "id": "6178c0c6",
   "metadata": {},
   "outputs": [],
   "source": [
    "df$rooms = clean_rooms(df$rooms)"
   ]
  },
  {
   "cell_type": "markdown",
   "id": "84ee6864",
   "metadata": {},
   "source": [
    "In the next phase we extract features of each listing from the 'rooms' column"
   ]
  },
  {
   "cell_type": "code",
   "execution_count": 69,
   "id": "dfe3c1ba",
   "metadata": {},
   "outputs": [],
   "source": [
    "df <- df %>%\n",
    "  mutate(centrum = case_when(str_detect(postalCode, \"100$\") ~ as.integer(1),\n",
    "                             TRUE ~ as.integer(0)))\n",
    "\n",
    "df$hasSauna <- detect_sauna(df$rooms)\n",
    "df$hasBalcony <- detect_balcony(df$rooms)\n",
    "df$hasParking <- detect_parking(df$rooms)\n",
    "df$hasWalkInCloset <- detect_walk_in_closet(df$rooms)\n",
    "df$hasStorage <- detect_storage(df$rooms)"
   ]
  },
  {
   "cell_type": "markdown",
   "id": "99be3546",
   "metadata": {},
   "source": [
    "finally, the 'rooms' column can be removed"
   ]
  },
  {
   "cell_type": "code",
   "execution_count": 70,
   "id": "05da1324",
   "metadata": {},
   "outputs": [],
   "source": [
    "df <- df %>%\n",
    "  select(-rooms)"
   ]
  },
  {
   "cell_type": "code",
   "execution_count": 71,
   "id": "fedeba07",
   "metadata": {},
   "outputs": [],
   "source": [
    "# Creating new variables for price per meter square and link to the respective houses on the website\n",
    "df <- df %>%\n",
    "mutate(pricePMsq = debtFreePrice/totalArea, link = paste0(\"<a href='https://op-koti.fi/kohde/\",id,\"'>\",\"https://op-koti.fi/kohde/\",id,\"</a>\"))"
   ]
  },
  {
   "cell_type": "code",
   "execution_count": 72,
   "id": "881e6cde",
   "metadata": {},
   "outputs": [
    {
     "data": {
      "text/plain": [
       "\n",
       "      Erillistalo        Kerrostalo Kytketty paritalo         Luhtitalo \n",
       "               10              1262                 1                30 \n",
       "      Omakotitalo          Paritalo           Puutalo          Rivitalo \n",
       "              498                65                 3               513 "
      ]
     },
     "metadata": {},
     "output_type": "display_data"
    }
   ],
   "source": [
    "table(df$listingType)"
   ]
  },
  {
   "cell_type": "code",
   "execution_count": 73,
   "id": "a34eaf8b",
   "metadata": {},
   "outputs": [
    {
     "data": {
      "text/plain": [
       "\n",
       "Erillistalo  Kerrostalo   Luhtitalo Omakotitalo    Paritalo     Puutalo \n",
       "         10        1262          30         498          66           3 \n",
       "   Rivitalo \n",
       "        513 "
      ]
     },
     "metadata": {},
     "output_type": "display_data"
    }
   ],
   "source": [
    "# Merging 'Kytketty paritalo' into 'Paritalo'\n",
    "df$listingType[df$listingType %in% \"Kytketty paritalo\"] <- \"Paritalo\"\n",
    "table(df$listingType)"
   ]
  },
  {
   "cell_type": "markdown",
   "id": "097e190c",
   "metadata": {},
   "source": [
    "'Kytketty paritalo' is now merged into 'Paritalo'"
   ]
  },
  {
   "cell_type": "markdown",
   "id": "fdaed926",
   "metadata": {},
   "source": [
    "Next we rearrange the columns for convenience"
   ]
  },
  {
   "cell_type": "code",
   "execution_count": 74,
   "id": "2096d378",
   "metadata": {},
   "outputs": [
    {
     "data": {
      "text/html": [
       "<ol>\n",
       "\t<li>'id'</li>\n",
       "\t<li>'listingType'</li>\n",
       "\t<li>'floor'</li>\n",
       "\t<li>'numberOfRooms'</li>\n",
       "\t<li>'price'</li>\n",
       "\t<li>'debtFreePrice'</li>\n",
       "\t<li>'city'</li>\n",
       "\t<li>'region'</li>\n",
       "\t<li>'district'</li>\n",
       "\t<li>'postalCode'</li>\n",
       "\t<li>'livingArea'</li>\n",
       "\t<li>'totalArea'</li>\n",
       "\t<li>'buildingAge'</li>\n",
       "\t<li>'centrum'</li>\n",
       "\t<li>'hasSauna'</li>\n",
       "\t<li>'hasBalcony'</li>\n",
       "\t<li>'hasParking'</li>\n",
       "\t<li>'hasWalkInCloset'</li>\n",
       "\t<li>'hasStorage'</li>\n",
       "\t<li>'pricePMsq'</li>\n",
       "\t<li>'link'</li>\n",
       "</ol>\n"
      ],
      "text/latex": [
       "\\begin{enumerate}\n",
       "\\item 'id'\n",
       "\\item 'listingType'\n",
       "\\item 'floor'\n",
       "\\item 'numberOfRooms'\n",
       "\\item 'price'\n",
       "\\item 'debtFreePrice'\n",
       "\\item 'city'\n",
       "\\item 'region'\n",
       "\\item 'district'\n",
       "\\item 'postalCode'\n",
       "\\item 'livingArea'\n",
       "\\item 'totalArea'\n",
       "\\item 'buildingAge'\n",
       "\\item 'centrum'\n",
       "\\item 'hasSauna'\n",
       "\\item 'hasBalcony'\n",
       "\\item 'hasParking'\n",
       "\\item 'hasWalkInCloset'\n",
       "\\item 'hasStorage'\n",
       "\\item 'pricePMsq'\n",
       "\\item 'link'\n",
       "\\end{enumerate}\n"
      ],
      "text/markdown": [
       "1. 'id'\n",
       "2. 'listingType'\n",
       "3. 'floor'\n",
       "4. 'numberOfRooms'\n",
       "5. 'price'\n",
       "6. 'debtFreePrice'\n",
       "7. 'city'\n",
       "8. 'region'\n",
       "9. 'district'\n",
       "10. 'postalCode'\n",
       "11. 'livingArea'\n",
       "12. 'totalArea'\n",
       "13. 'buildingAge'\n",
       "14. 'centrum'\n",
       "15. 'hasSauna'\n",
       "16. 'hasBalcony'\n",
       "17. 'hasParking'\n",
       "18. 'hasWalkInCloset'\n",
       "19. 'hasStorage'\n",
       "20. 'pricePMsq'\n",
       "21. 'link'\n",
       "\n",
       "\n"
      ],
      "text/plain": [
       "[[1]]\n",
       "[1] \"id\"\n",
       "\n",
       "[[2]]\n",
       "[1] \"listingType\"\n",
       "\n",
       "[[3]]\n",
       "[1] \"floor\"\n",
       "\n",
       "[[4]]\n",
       "[1] \"numberOfRooms\"\n",
       "\n",
       "[[5]]\n",
       "[1] \"price\"\n",
       "\n",
       "[[6]]\n",
       "[1] \"debtFreePrice\"\n",
       "\n",
       "[[7]]\n",
       "[1] \"city\"\n",
       "\n",
       "[[8]]\n",
       "[1] \"region\"\n",
       "\n",
       "[[9]]\n",
       "[1] \"district\"\n",
       "\n",
       "[[10]]\n",
       "[1] \"postalCode\"\n",
       "\n",
       "[[11]]\n",
       "[1] \"livingArea\"\n",
       "\n",
       "[[12]]\n",
       "[1] \"totalArea\"\n",
       "\n",
       "[[13]]\n",
       "[1] \"buildingAge\"\n",
       "\n",
       "[[14]]\n",
       "[1] \"centrum\"\n",
       "\n",
       "[[15]]\n",
       "[1] \"hasSauna\"\n",
       "\n",
       "[[16]]\n",
       "[1] \"hasBalcony\"\n",
       "\n",
       "[[17]]\n",
       "[1] \"hasParking\"\n",
       "\n",
       "[[18]]\n",
       "[1] \"hasWalkInCloset\"\n",
       "\n",
       "[[19]]\n",
       "[1] \"hasStorage\"\n",
       "\n",
       "[[20]]\n",
       "[1] \"pricePMsq\"\n",
       "\n",
       "[[21]]\n",
       "[1] \"link\"\n"
      ]
     },
     "metadata": {},
     "output_type": "display_data"
    }
   ],
   "source": [
    "as.list(colnames(df))"
   ]
  },
  {
   "cell_type": "code",
   "execution_count": 75,
   "id": "2b74efd3",
   "metadata": {},
   "outputs": [],
   "source": [
    "df <- df[c(1,2,4,5,6,11,12,20,7:10,3,13:19,21)]"
   ]
  },
  {
   "cell_type": "markdown",
   "id": "9b8e2257",
   "metadata": {},
   "source": [
    "#### Now the df is ready for the dashboard. Let's save it to a csv file."
   ]
  },
  {
   "cell_type": "code",
   "execution_count": 76,
   "id": "0d668b7f",
   "metadata": {},
   "outputs": [],
   "source": [
    "write.csv(df, \"/Users/avinashmalla/GitHub/opKotiDashboard/forDash.csv\", row.names = F)"
   ]
  }
 ],
 "metadata": {
  "kernelspec": {
   "display_name": "R",
   "language": "R",
   "name": "ir"
  },
  "language_info": {
   "codemirror_mode": "r",
   "file_extension": ".r",
   "mimetype": "text/x-r-source",
   "name": "R",
   "pygments_lexer": "r",
   "version": "4.1.1"
  }
 },
 "nbformat": 4,
 "nbformat_minor": 5
}

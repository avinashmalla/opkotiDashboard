{
 "cells": [
  {
   "cell_type": "code",
   "execution_count": 86,
   "id": "c1cfce85",
   "metadata": {},
   "outputs": [],
   "source": [
    "## Install packages if they don't exist\n",
    "list.of.packages <- c(\"tidyverse\", \"jsonlite\", \"magrittr\")\n",
    "new.packages <- list.of.packages[!(list.of.packages %in% installed.packages()[,\"Package\"])]\n",
    "if(length(new.packages)) install.packages(new.packages)"
   ]
  },
  {
   "cell_type": "code",
   "execution_count": 87,
   "id": "b86036ff",
   "metadata": {},
   "outputs": [],
   "source": [
    "suppressPackageStartupMessages({\n",
    "    library(jsonlite)\n",
    "    library(tidyverse)\n",
    "    library(lubridate)\n",
    "    library(magrittr)\n",
    "})"
   ]
  },
  {
   "cell_type": "code",
   "execution_count": 88,
   "id": "761d2edc",
   "metadata": {},
   "outputs": [],
   "source": [
    "data <- jsonlite::fromJSON(\"https://op-koti.fi/api/apartments?mode=sale&featureGroup=apartment&orderBy=created&order=desc&offset=0&limit=4500\", flatten = T)\n",
    "\n",
    "df <- data[[2]]"
   ]
  },
  {
   "cell_type": "code",
   "execution_count": 89,
   "id": "b98e7f16",
   "metadata": {},
   "outputs": [],
   "source": [
    "cols = c('id', 'listingType', 'floor', 'year', 'rooms', 'numberOfRooms', 'price', 'debtFreePrice',\n",
    "        'location.city', 'location.region', 'location.district','location.postalCode',\n",
    "        'livingArea.size', 'totalArea.size', 'featureGroups')\n",
    "\n",
    "df <- df[cols]\n",
    "\n",
    "df <- df %>%\n",
    "  rename(city = location.city, \n",
    "         region = location.region, \n",
    "         district = location.district, \n",
    "         postalCode = location.postalCode, \n",
    "         livingArea = livingArea.size, \n",
    "         totalArea = totalArea.size, \n",
    "         yearBuilt = year)"
   ]
  },
  {
   "cell_type": "code",
   "execution_count": 90,
   "id": "a924a05e",
   "metadata": {},
   "outputs": [
    {
     "data": {
      "text/html": [
       "<style>\n",
       ".list-inline {list-style: none; margin:0; padding: 0}\n",
       ".list-inline>li {display: inline-block}\n",
       ".list-inline>li:not(:last-child)::after {content: \"\\00b7\"; padding: 0 .5ex}\n",
       "</style>\n",
       "<ol class=list-inline><li>'id'</li><li>'listingType'</li><li>'floor'</li><li>'yearBuilt'</li><li>'rooms'</li><li>'numberOfRooms'</li><li>'price'</li><li>'debtFreePrice'</li><li>'city'</li><li>'region'</li><li>'district'</li><li>'postalCode'</li><li>'livingArea'</li><li>'totalArea'</li><li>'featureGroups'</li></ol>\n"
      ],
      "text/latex": [
       "\\begin{enumerate*}\n",
       "\\item 'id'\n",
       "\\item 'listingType'\n",
       "\\item 'floor'\n",
       "\\item 'yearBuilt'\n",
       "\\item 'rooms'\n",
       "\\item 'numberOfRooms'\n",
       "\\item 'price'\n",
       "\\item 'debtFreePrice'\n",
       "\\item 'city'\n",
       "\\item 'region'\n",
       "\\item 'district'\n",
       "\\item 'postalCode'\n",
       "\\item 'livingArea'\n",
       "\\item 'totalArea'\n",
       "\\item 'featureGroups'\n",
       "\\end{enumerate*}\n"
      ],
      "text/markdown": [
       "1. 'id'\n",
       "2. 'listingType'\n",
       "3. 'floor'\n",
       "4. 'yearBuilt'\n",
       "5. 'rooms'\n",
       "6. 'numberOfRooms'\n",
       "7. 'price'\n",
       "8. 'debtFreePrice'\n",
       "9. 'city'\n",
       "10. 'region'\n",
       "11. 'district'\n",
       "12. 'postalCode'\n",
       "13. 'livingArea'\n",
       "14. 'totalArea'\n",
       "15. 'featureGroups'\n",
       "\n",
       "\n"
      ],
      "text/plain": [
       " [1] \"id\"            \"listingType\"   \"floor\"         \"yearBuilt\"    \n",
       " [5] \"rooms\"         \"numberOfRooms\" \"price\"         \"debtFreePrice\"\n",
       " [9] \"city\"          \"region\"        \"district\"      \"postalCode\"   \n",
       "[13] \"livingArea\"    \"totalArea\"     \"featureGroups\""
      ]
     },
     "metadata": {},
     "output_type": "display_data"
    }
   ],
   "source": [
    "names(df)"
   ]
  },
  {
   "cell_type": "markdown",
   "id": "a6516803",
   "metadata": {},
   "source": [
    "_listingType_ is in code. The code below changes it into the corresponding text values"
   ]
  },
  {
   "cell_type": "code",
   "execution_count": 91,
   "id": "54c580ab",
   "metadata": {},
   "outputs": [],
   "source": [
    "df <- df %>%\n",
    "  mutate(listingType = recode(listingType, '89'='Kerrostalo','90'='Omakotitalo','91'='Rivitalo','92'='Paritalo','93'='Erillistalo','112'='Puutalo','113'='Luhtitalo','470'='Kytketty paritalo'))"
   ]
  },
  {
   "cell_type": "code",
   "execution_count": 92,
   "id": "53d4c31e",
   "metadata": {},
   "outputs": [
    {
     "data": {
      "text/plain": [
       "\n",
       "      Erillistalo        Kerrostalo Kytketty paritalo         Luhtitalo \n",
       "               12              1418                 1                45 \n",
       "      Omakotitalo          Paritalo           Puutalo          Rivitalo \n",
       "              804                79                 6               565 "
      ]
     },
     "metadata": {},
     "output_type": "display_data"
    }
   ],
   "source": [
    "table(df$listingType)"
   ]
  },
  {
   "cell_type": "markdown",
   "id": "c78e244b",
   "metadata": {},
   "source": [
    "replacing empty values with NAs"
   ]
  },
  {
   "cell_type": "code",
   "execution_count": 93,
   "id": "3338476b",
   "metadata": {},
   "outputs": [
    {
     "data": {
      "text/html": [
       "<table class=\"dataframe\">\n",
       "<caption>A data.frame: 1 × 15</caption>\n",
       "<thead>\n",
       "\t<tr><th scope=col>id</th><th scope=col>listingType</th><th scope=col>floor</th><th scope=col>yearBuilt</th><th scope=col>rooms</th><th scope=col>numberOfRooms</th><th scope=col>price</th><th scope=col>debtFreePrice</th><th scope=col>city</th><th scope=col>region</th><th scope=col>district</th><th scope=col>postalCode</th><th scope=col>livingArea</th><th scope=col>totalArea</th><th scope=col>featureGroups</th></tr>\n",
       "\t<tr><th scope=col>&lt;int&gt;</th><th scope=col>&lt;int&gt;</th><th scope=col>&lt;int&gt;</th><th scope=col>&lt;int&gt;</th><th scope=col>&lt;int&gt;</th><th scope=col>&lt;int&gt;</th><th scope=col>&lt;int&gt;</th><th scope=col>&lt;int&gt;</th><th scope=col>&lt;int&gt;</th><th scope=col>&lt;int&gt;</th><th scope=col>&lt;int&gt;</th><th scope=col>&lt;int&gt;</th><th scope=col>&lt;int&gt;</th><th scope=col>&lt;int&gt;</th><th scope=col>&lt;int&gt;</th></tr>\n",
       "</thead>\n",
       "<tbody>\n",
       "\t<tr><td>0</td><td>0</td><td>335</td><td>10</td><td>114</td><td>114</td><td>114</td><td>953</td><td>0</td><td>0</td><td>151</td><td>0</td><td>114</td><td>114</td><td>0</td></tr>\n",
       "</tbody>\n",
       "</table>\n"
      ],
      "text/latex": [
       "A data.frame: 1 × 15\n",
       "\\begin{tabular}{lllllllllllllll}\n",
       " id & listingType & floor & yearBuilt & rooms & numberOfRooms & price & debtFreePrice & city & region & district & postalCode & livingArea & totalArea & featureGroups\\\\\n",
       " <int> & <int> & <int> & <int> & <int> & <int> & <int> & <int> & <int> & <int> & <int> & <int> & <int> & <int> & <int>\\\\\n",
       "\\hline\n",
       "\t 0 & 0 & 335 & 10 & 114 & 114 & 114 & 953 & 0 & 0 & 151 & 0 & 114 & 114 & 0\\\\\n",
       "\\end{tabular}\n"
      ],
      "text/markdown": [
       "\n",
       "A data.frame: 1 × 15\n",
       "\n",
       "| id &lt;int&gt; | listingType &lt;int&gt; | floor &lt;int&gt; | yearBuilt &lt;int&gt; | rooms &lt;int&gt; | numberOfRooms &lt;int&gt; | price &lt;int&gt; | debtFreePrice &lt;int&gt; | city &lt;int&gt; | region &lt;int&gt; | district &lt;int&gt; | postalCode &lt;int&gt; | livingArea &lt;int&gt; | totalArea &lt;int&gt; | featureGroups &lt;int&gt; |\n",
       "|---|---|---|---|---|---|---|---|---|---|---|---|---|---|---|\n",
       "| 0 | 0 | 335 | 10 | 114 | 114 | 114 | 953 | 0 | 0 | 151 | 0 | 114 | 114 | 0 |\n",
       "\n"
      ],
      "text/plain": [
       "  id listingType floor yearBuilt rooms numberOfRooms price debtFreePrice city\n",
       "1 0  0           335   10        114   114           114   953           0   \n",
       "  region district postalCode livingArea totalArea featureGroups\n",
       "1 0      151      0          114        114       0            "
      ]
     },
     "metadata": {},
     "output_type": "display_data"
    }
   ],
   "source": [
    "df <- df %>% \n",
    "  mutate_all(na_if,\"\")\n",
    "\n",
    "df %>%\n",
    "  summarise_all(funs(sum(is.na(.))))"
   ]
  },
  {
   "cell_type": "markdown",
   "id": "31b2133f",
   "metadata": {},
   "source": [
    "#### Next,\n",
    "* Cases where _debtFreePrice_ is NA but _price_ is given, the price of the listing is the debtFreePrice. This means there is no outstanding loan payment to be carried over to the new owner\n",
    "\n",
    "* Also creating a new row _buildingAge_ from the _yearBuilt_"
   ]
  },
  {
   "cell_type": "code",
   "execution_count": 94,
   "id": "44532ed6",
   "metadata": {},
   "outputs": [],
   "source": [
    "df <- df %>%\n",
    "  mutate(debtFreePrice = case_when(is.na(debtFreePrice) & !is.na(price) ~ price,\n",
    "                                   TRUE ~ debtFreePrice))\n",
    "\n",
    "df <- df %>%\n",
    "  filter(!is.na(yearBuilt))%>%\n",
    "  mutate(buildingAge = case_when(yearBuilt > year(today()) ~ 1,\n",
    "                                 TRUE ~ year(today()) - year(as.Date(as.character(yearBuilt), format = \"%Y\")))) %>%\n",
    "  select(-yearBuilt)"
   ]
  },
  {
   "cell_type": "markdown",
   "id": "a694273f",
   "metadata": {},
   "source": [
    "Removing the NAs"
   ]
  },
  {
   "cell_type": "code",
   "execution_count": 95,
   "id": "19af15a3",
   "metadata": {},
   "outputs": [],
   "source": [
    "df <- na.omit(df)"
   ]
  },
  {
   "cell_type": "code",
   "execution_count": 96,
   "id": "6368f1f2",
   "metadata": {},
   "outputs": [],
   "source": [
    "## CREATED FUNCTIONS\n",
    "is.not.null <- function(x) !is.null(x)\n",
    "\n",
    "clean_rooms <- function(rooms){\n",
    "  clean = c()\n",
    "  for (room in rooms){\n",
    "    room = str_replace(room, \"\\\\.\", \" \")\n",
    "    y = strsplit(room, split = \"[[:punct:]]\")\n",
    "    z = c()\n",
    "    for (x in y) {\n",
    "      z = append(z, str_trim(x, side = \"both\"))\n",
    "    }\n",
    "    z = z[!z == \"\"]\n",
    "    # y <- paste(z, collapse = \" \", recycle0 = FALSE)\n",
    "    y = list(z)\n",
    "    clean = append(clean, y)\n",
    "  }\n",
    "  return(clean)\n",
    "}\n",
    "\n",
    "detect_sauna <- function(rooms){\n",
    "  # takes a list of rooms, checks for sauna and returns binary\n",
    "  l = c()\n",
    "  for(room in rooms){\n",
    "    l = append(l,any(str_detect(room, '^s$|sauna')))\n",
    "  }\n",
    "  return(as.integer(l))\n",
    "}\n",
    "\n",
    "detect_balcony <- function(rooms){\n",
    "  # takes a list of rooms, checks for balcony and returns binary\n",
    "  l = c()\n",
    "  for(room in rooms){\n",
    "    l = append(l,any(str_detect(room, '^p$|parv|lasit p|las p')))\n",
    "  }\n",
    "  return(as.integer(l))\n",
    "}\n",
    "\n",
    "detect_parking <- function(rooms){\n",
    "  # takes a list of rooms, checks for parking and returns binary\n",
    "  l = c()\n",
    "  for(room in rooms){\n",
    "    l = append(l,any(str_detect(room, '^ak$|^at$|auto')))\n",
    "  }\n",
    "  return(as.integer(l))\n",
    "}\n",
    "\n",
    "detect_walk_in_closet <- function(rooms){\n",
    "  # takes a list of rooms, checks for walk-in-closet and returns binary\n",
    "  l = c()\n",
    "  for(room in rooms){\n",
    "    l = append(l,any(str_detect(room, '^v$|^vh$|vaate')))\n",
    "  }\n",
    "  return(as.integer(l))\n",
    "}\n",
    "\n",
    "detect_storage <- function(rooms){\n",
    "  # takes a list of rooms, checks for storage room and returns binary\n",
    "  l = c()\n",
    "  for(room in rooms){\n",
    "    l = append(l,any(str_detect(room, 'var')))\n",
    "  }\n",
    "  return(as.integer(l))\n",
    "}"
   ]
  },
  {
   "cell_type": "code",
   "execution_count": 97,
   "id": "603e638b",
   "metadata": {},
   "outputs": [
    {
     "data": {
      "text/html": [
       "<style>\n",
       ".list-inline {list-style: none; margin:0; padding: 0}\n",
       ".list-inline>li {display: inline-block}\n",
       ".list-inline>li:not(:last-child)::after {content: \"\\00b7\"; padding: 0 .5ex}\n",
       "</style>\n",
       "<ol class=list-inline><li>'4h, k'</li><li>'4h, k, s + autotalli'</li><li>'3h+k+s'</li><li>'4h,k,kph,s,et,parv.'</li><li>'3h,k,s'</li><li>'2h,k,kh'</li></ol>\n"
      ],
      "text/latex": [
       "\\begin{enumerate*}\n",
       "\\item '4h, k'\n",
       "\\item '4h, k, s + autotalli'\n",
       "\\item '3h+k+s'\n",
       "\\item '4h,k,kph,s,et,parv.'\n",
       "\\item '3h,k,s'\n",
       "\\item '2h,k,kh'\n",
       "\\end{enumerate*}\n"
      ],
      "text/markdown": [
       "1. '4h, k'\n",
       "2. '4h, k, s + autotalli'\n",
       "3. '3h+k+s'\n",
       "4. '4h,k,kph,s,et,parv.'\n",
       "5. '3h,k,s'\n",
       "6. '2h,k,kh'\n",
       "\n",
       "\n"
      ],
      "text/plain": [
       "[1] \"4h, k\"                \"4h, k, s + autotalli\" \"3h+k+s\"              \n",
       "[4] \"4h,k,kph,s,et,parv.\"  \"3h,k,s\"               \"2h,k,kh\"             "
      ]
     },
     "metadata": {},
     "output_type": "display_data"
    }
   ],
   "source": [
    "head(df$rooms)"
   ]
  },
  {
   "cell_type": "markdown",
   "id": "e7e80d92",
   "metadata": {},
   "source": [
    "We can see that _rooms_ has information in varying formats. clean_rooms() makes it uniform"
   ]
  },
  {
   "cell_type": "code",
   "execution_count": 98,
   "id": "6178c0c6",
   "metadata": {},
   "outputs": [
    {
     "data": {
      "text/html": [
       "<ol>\n",
       "\t<li><style>\n",
       ".list-inline {list-style: none; margin:0; padding: 0}\n",
       ".list-inline>li {display: inline-block}\n",
       ".list-inline>li:not(:last-child)::after {content: \"\\00b7\"; padding: 0 .5ex}\n",
       "</style>\n",
       "<ol class=list-inline><li>'4h'</li><li>'k'</li></ol>\n",
       "</li>\n",
       "\t<li><style>\n",
       ".list-inline {list-style: none; margin:0; padding: 0}\n",
       ".list-inline>li {display: inline-block}\n",
       ".list-inline>li:not(:last-child)::after {content: \"\\00b7\"; padding: 0 .5ex}\n",
       "</style>\n",
       "<ol class=list-inline><li>'4h'</li><li>'k'</li><li>'s'</li><li>'autotalli'</li></ol>\n",
       "</li>\n",
       "\t<li><style>\n",
       ".list-inline {list-style: none; margin:0; padding: 0}\n",
       ".list-inline>li {display: inline-block}\n",
       ".list-inline>li:not(:last-child)::after {content: \"\\00b7\"; padding: 0 .5ex}\n",
       "</style>\n",
       "<ol class=list-inline><li>'3h'</li><li>'k'</li><li>'s'</li></ol>\n",
       "</li>\n",
       "\t<li><style>\n",
       ".list-inline {list-style: none; margin:0; padding: 0}\n",
       ".list-inline>li {display: inline-block}\n",
       ".list-inline>li:not(:last-child)::after {content: \"\\00b7\"; padding: 0 .5ex}\n",
       "</style>\n",
       "<ol class=list-inline><li>'4h'</li><li>'k'</li><li>'kph'</li><li>'s'</li><li>'et'</li><li>'parv'</li></ol>\n",
       "</li>\n",
       "\t<li><style>\n",
       ".list-inline {list-style: none; margin:0; padding: 0}\n",
       ".list-inline>li {display: inline-block}\n",
       ".list-inline>li:not(:last-child)::after {content: \"\\00b7\"; padding: 0 .5ex}\n",
       "</style>\n",
       "<ol class=list-inline><li>'3h'</li><li>'k'</li><li>'s'</li></ol>\n",
       "</li>\n",
       "\t<li><style>\n",
       ".list-inline {list-style: none; margin:0; padding: 0}\n",
       ".list-inline>li {display: inline-block}\n",
       ".list-inline>li:not(:last-child)::after {content: \"\\00b7\"; padding: 0 .5ex}\n",
       "</style>\n",
       "<ol class=list-inline><li>'2h'</li><li>'k'</li><li>'kh'</li></ol>\n",
       "</li>\n",
       "</ol>\n"
      ],
      "text/latex": [
       "\\begin{enumerate}\n",
       "\\item \\begin{enumerate*}\n",
       "\\item '4h'\n",
       "\\item 'k'\n",
       "\\end{enumerate*}\n",
       "\n",
       "\\item \\begin{enumerate*}\n",
       "\\item '4h'\n",
       "\\item 'k'\n",
       "\\item 's'\n",
       "\\item 'autotalli'\n",
       "\\end{enumerate*}\n",
       "\n",
       "\\item \\begin{enumerate*}\n",
       "\\item '3h'\n",
       "\\item 'k'\n",
       "\\item 's'\n",
       "\\end{enumerate*}\n",
       "\n",
       "\\item \\begin{enumerate*}\n",
       "\\item '4h'\n",
       "\\item 'k'\n",
       "\\item 'kph'\n",
       "\\item 's'\n",
       "\\item 'et'\n",
       "\\item 'parv'\n",
       "\\end{enumerate*}\n",
       "\n",
       "\\item \\begin{enumerate*}\n",
       "\\item '3h'\n",
       "\\item 'k'\n",
       "\\item 's'\n",
       "\\end{enumerate*}\n",
       "\n",
       "\\item \\begin{enumerate*}\n",
       "\\item '2h'\n",
       "\\item 'k'\n",
       "\\item 'kh'\n",
       "\\end{enumerate*}\n",
       "\n",
       "\\end{enumerate}\n"
      ],
      "text/markdown": [
       "1. 1. '4h'\n",
       "2. 'k'\n",
       "\n",
       "\n",
       "\n",
       "2. 1. '4h'\n",
       "2. 'k'\n",
       "3. 's'\n",
       "4. 'autotalli'\n",
       "\n",
       "\n",
       "\n",
       "3. 1. '3h'\n",
       "2. 'k'\n",
       "3. 's'\n",
       "\n",
       "\n",
       "\n",
       "4. 1. '4h'\n",
       "2. 'k'\n",
       "3. 'kph'\n",
       "4. 's'\n",
       "5. 'et'\n",
       "6. 'parv'\n",
       "\n",
       "\n",
       "\n",
       "5. 1. '3h'\n",
       "2. 'k'\n",
       "3. 's'\n",
       "\n",
       "\n",
       "\n",
       "6. 1. '2h'\n",
       "2. 'k'\n",
       "3. 'kh'\n",
       "\n",
       "\n",
       "\n",
       "\n",
       "\n"
      ],
      "text/plain": [
       "[[1]]\n",
       "[1] \"4h\" \"k\" \n",
       "\n",
       "[[2]]\n",
       "[1] \"4h\"        \"k\"         \"s\"         \"autotalli\"\n",
       "\n",
       "[[3]]\n",
       "[1] \"3h\" \"k\"  \"s\" \n",
       "\n",
       "[[4]]\n",
       "[1] \"4h\"   \"k\"    \"kph\"  \"s\"    \"et\"   \"parv\"\n",
       "\n",
       "[[5]]\n",
       "[1] \"3h\" \"k\"  \"s\" \n",
       "\n",
       "[[6]]\n",
       "[1] \"2h\" \"k\"  \"kh\"\n"
      ]
     },
     "metadata": {},
     "output_type": "display_data"
    }
   ],
   "source": [
    "df$rooms = clean_rooms(df$rooms)\n",
    "head(df$rooms)"
   ]
  },
  {
   "cell_type": "markdown",
   "id": "84ee6864",
   "metadata": {},
   "source": [
    "In the next phase we extract features of each listing from the _rooms_ column"
   ]
  },
  {
   "cell_type": "code",
   "execution_count": 99,
   "id": "dfe3c1ba",
   "metadata": {},
   "outputs": [],
   "source": [
    "df <- df %>%\n",
    "  mutate(centrum = case_when(str_detect(postalCode, \"100$\") ~ as.integer(1),\n",
    "                             TRUE ~ as.integer(0)))\n",
    "\n",
    "df$hasSauna <- detect_sauna(df$rooms)\n",
    "df$hasBalcony <- detect_balcony(df$rooms)\n",
    "df$hasParking <- detect_parking(df$rooms)\n",
    "df$hasWalkInCloset <- detect_walk_in_closet(df$rooms)\n",
    "df$hasStorage <- detect_storage(df$rooms)"
   ]
  },
  {
   "cell_type": "markdown",
   "id": "99be3546",
   "metadata": {},
   "source": [
    "finally, _rooms_ can be removed"
   ]
  },
  {
   "cell_type": "code",
   "execution_count": 100,
   "id": "05da1324",
   "metadata": {},
   "outputs": [],
   "source": [
    "df <- df %>%\n",
    "  select(-rooms)"
   ]
  },
  {
   "cell_type": "code",
   "execution_count": 101,
   "id": "fedeba07",
   "metadata": {},
   "outputs": [],
   "source": [
    "# Creating new variables for price per meter square and link to the respective houses on the website\n",
    "df <- df %>%\n",
    "mutate(pricePMsq = debtFreePrice/totalArea, link = paste0(\"<a href='https://op-koti.fi/kohde/\",id,\"'>\",\"https://op-koti.fi/kohde/\",id,\"</a>\"))"
   ]
  },
  {
   "cell_type": "code",
   "execution_count": 102,
   "id": "881e6cde",
   "metadata": {},
   "outputs": [
    {
     "data": {
      "text/plain": [
       "\n",
       "      Erillistalo        Kerrostalo Kytketty paritalo         Luhtitalo \n",
       "               11              1297                 1                44 \n",
       "      Omakotitalo          Paritalo           Puutalo          Rivitalo \n",
       "              536                67                 5               489 "
      ]
     },
     "metadata": {},
     "output_type": "display_data"
    }
   ],
   "source": [
    "table(df$listingType)"
   ]
  },
  {
   "cell_type": "code",
   "execution_count": 103,
   "id": "a34eaf8b",
   "metadata": {},
   "outputs": [
    {
     "data": {
      "text/plain": [
       "\n",
       "Erillistalo  Kerrostalo   Luhtitalo Omakotitalo    Paritalo     Puutalo \n",
       "         11        1297          44         536          68           5 \n",
       "   Rivitalo \n",
       "        489 "
      ]
     },
     "metadata": {},
     "output_type": "display_data"
    }
   ],
   "source": [
    "# Merging 'Kytketty paritalo' into 'Paritalo'\n",
    "df$listingType[df$listingType %in% \"Kytketty paritalo\"] <- \"Paritalo\"\n",
    "table(df$listingType)"
   ]
  },
  {
   "cell_type": "markdown",
   "id": "097e190c",
   "metadata": {},
   "source": [
    "_Kytketty paritalo_ is now merged into _Paritalo_.\n",
    "Next is featureGroups, currently it's in a list inside a list"
   ]
  },
  {
   "cell_type": "code",
   "execution_count": 104,
   "id": "fc6b88c5",
   "metadata": {},
   "outputs": [],
   "source": [
    "df$featureGroups <- rapply(df$featureGroups, function(x) head(x, 1))"
   ]
  },
  {
   "cell_type": "markdown",
   "id": "c5a147d6",
   "metadata": {},
   "source": [
    "Next we move on to arranging the columns"
   ]
  },
  {
   "cell_type": "code",
   "execution_count": 105,
   "id": "2096d378",
   "metadata": {},
   "outputs": [
    {
     "data": {
      "text/html": [
       "<ol>\n",
       "\t<li>'id'</li>\n",
       "\t<li>'listingType'</li>\n",
       "\t<li>'floor'</li>\n",
       "\t<li>'numberOfRooms'</li>\n",
       "\t<li>'price'</li>\n",
       "\t<li>'debtFreePrice'</li>\n",
       "\t<li>'city'</li>\n",
       "\t<li>'region'</li>\n",
       "\t<li>'district'</li>\n",
       "\t<li>'postalCode'</li>\n",
       "\t<li>'livingArea'</li>\n",
       "\t<li>'totalArea'</li>\n",
       "\t<li>'featureGroups'</li>\n",
       "\t<li>'buildingAge'</li>\n",
       "\t<li>'centrum'</li>\n",
       "\t<li>'hasSauna'</li>\n",
       "\t<li>'hasBalcony'</li>\n",
       "\t<li>'hasParking'</li>\n",
       "\t<li>'hasWalkInCloset'</li>\n",
       "\t<li>'hasStorage'</li>\n",
       "\t<li>'pricePMsq'</li>\n",
       "\t<li>'link'</li>\n",
       "</ol>\n"
      ],
      "text/latex": [
       "\\begin{enumerate}\n",
       "\\item 'id'\n",
       "\\item 'listingType'\n",
       "\\item 'floor'\n",
       "\\item 'numberOfRooms'\n",
       "\\item 'price'\n",
       "\\item 'debtFreePrice'\n",
       "\\item 'city'\n",
       "\\item 'region'\n",
       "\\item 'district'\n",
       "\\item 'postalCode'\n",
       "\\item 'livingArea'\n",
       "\\item 'totalArea'\n",
       "\\item 'featureGroups'\n",
       "\\item 'buildingAge'\n",
       "\\item 'centrum'\n",
       "\\item 'hasSauna'\n",
       "\\item 'hasBalcony'\n",
       "\\item 'hasParking'\n",
       "\\item 'hasWalkInCloset'\n",
       "\\item 'hasStorage'\n",
       "\\item 'pricePMsq'\n",
       "\\item 'link'\n",
       "\\end{enumerate}\n"
      ],
      "text/markdown": [
       "1. 'id'\n",
       "2. 'listingType'\n",
       "3. 'floor'\n",
       "4. 'numberOfRooms'\n",
       "5. 'price'\n",
       "6. 'debtFreePrice'\n",
       "7. 'city'\n",
       "8. 'region'\n",
       "9. 'district'\n",
       "10. 'postalCode'\n",
       "11. 'livingArea'\n",
       "12. 'totalArea'\n",
       "13. 'featureGroups'\n",
       "14. 'buildingAge'\n",
       "15. 'centrum'\n",
       "16. 'hasSauna'\n",
       "17. 'hasBalcony'\n",
       "18. 'hasParking'\n",
       "19. 'hasWalkInCloset'\n",
       "20. 'hasStorage'\n",
       "21. 'pricePMsq'\n",
       "22. 'link'\n",
       "\n",
       "\n"
      ],
      "text/plain": [
       "[[1]]\n",
       "[1] \"id\"\n",
       "\n",
       "[[2]]\n",
       "[1] \"listingType\"\n",
       "\n",
       "[[3]]\n",
       "[1] \"floor\"\n",
       "\n",
       "[[4]]\n",
       "[1] \"numberOfRooms\"\n",
       "\n",
       "[[5]]\n",
       "[1] \"price\"\n",
       "\n",
       "[[6]]\n",
       "[1] \"debtFreePrice\"\n",
       "\n",
       "[[7]]\n",
       "[1] \"city\"\n",
       "\n",
       "[[8]]\n",
       "[1] \"region\"\n",
       "\n",
       "[[9]]\n",
       "[1] \"district\"\n",
       "\n",
       "[[10]]\n",
       "[1] \"postalCode\"\n",
       "\n",
       "[[11]]\n",
       "[1] \"livingArea\"\n",
       "\n",
       "[[12]]\n",
       "[1] \"totalArea\"\n",
       "\n",
       "[[13]]\n",
       "[1] \"featureGroups\"\n",
       "\n",
       "[[14]]\n",
       "[1] \"buildingAge\"\n",
       "\n",
       "[[15]]\n",
       "[1] \"centrum\"\n",
       "\n",
       "[[16]]\n",
       "[1] \"hasSauna\"\n",
       "\n",
       "[[17]]\n",
       "[1] \"hasBalcony\"\n",
       "\n",
       "[[18]]\n",
       "[1] \"hasParking\"\n",
       "\n",
       "[[19]]\n",
       "[1] \"hasWalkInCloset\"\n",
       "\n",
       "[[20]]\n",
       "[1] \"hasStorage\"\n",
       "\n",
       "[[21]]\n",
       "[1] \"pricePMsq\"\n",
       "\n",
       "[[22]]\n",
       "[1] \"link\"\n"
      ]
     },
     "metadata": {},
     "output_type": "display_data"
    }
   ],
   "source": [
    "as.list(colnames(df))"
   ]
  },
  {
   "cell_type": "code",
   "execution_count": 106,
   "id": "2b74efd3",
   "metadata": {},
   "outputs": [],
   "source": [
    "df <- df[c(1,2,13,4,5,6,11,12,21,7:10,3,14:20,22)]"
   ]
  },
  {
   "cell_type": "markdown",
   "id": "1241e064",
   "metadata": {},
   "source": [
    "_The columns are now arranged in the preferred order._ __Now the df is ready for the dashboard. Let's save it to a csv file.__"
   ]
  },
  {
   "cell_type": "code",
   "execution_count": 107,
   "id": "0d668b7f",
   "metadata": {},
   "outputs": [],
   "source": [
    "write.csv(df, \"/Users/avinashmalla/GitHub/opKotiDashboard/forDash.csv\", row.names = F)"
   ]
  }
 ],
 "metadata": {
  "kernelspec": {
   "display_name": "R",
   "language": "R",
   "name": "ir"
  },
  "language_info": {
   "codemirror_mode": "r",
   "file_extension": ".r",
   "mimetype": "text/x-r-source",
   "name": "R",
   "pygments_lexer": "r",
   "version": "4.1.2"
  }
 },
 "nbformat": 4,
 "nbformat_minor": 5
}
